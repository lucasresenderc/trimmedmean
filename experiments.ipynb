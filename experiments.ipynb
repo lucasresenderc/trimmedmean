{
 "cells": [
  {
   "cell_type": "markdown",
   "metadata": {},
   "source": [
    "# Trimmed sample means for robust uniform mean estimation and regression\n",
    "## Notebook companion on experiments and algorithms\n",
    "\n",
    "We start importing a few libraries and defining a function to plot our experiments."
   ]
  },
  {
   "cell_type": "code",
   "execution_count": 1,
   "metadata": {},
   "outputs": [],
   "source": [
    "import numpy as np\n",
    "import pandas as pd\n",
    "import json\n",
    "import itertools\n",
    "\n",
    "from src.plot import *"
   ]
  },
  {
   "cell_type": "markdown",
   "metadata": {},
   "source": [
    "### Comparison between different cross validation strategies\n",
    "\n"
   ]
  },
  {
   "cell_type": "code",
   "execution_count": 2,
   "metadata": {
    "scrolled": true
   },
   "outputs": [
    {
     "name": "stdout",
     "output_type": "stream",
     "text": [
      "0 False False\n",
      "0 False True\n"
     ]
    },
    {
     "name": "stderr",
     "output_type": "stream",
     "text": [
      "/impa/home/a/lucas.resende/trimmedmean/src/plot.py:83: UserWarning: The figure layout has changed to tight\n",
      "  plt.tight_layout()\n"
     ]
    },
    {
     "name": "stdout",
     "output_type": "stream",
     "text": [
      "0 True False\n"
     ]
    },
    {
     "name": "stderr",
     "output_type": "stream",
     "text": [
      "/impa/home/a/lucas.resende/trimmedmean/src/plot.py:83: UserWarning: The figure layout has changed to tight\n",
      "  plt.tight_layout()\n"
     ]
    },
    {
     "name": "stdout",
     "output_type": "stream",
     "text": [
      "0 True True\n"
     ]
    },
    {
     "name": "stderr",
     "output_type": "stream",
     "text": [
      "/impa/home/a/lucas.resende/trimmedmean/src/plot.py:83: UserWarning: The figure layout has changed to tight\n",
      "  plt.tight_layout()\n"
     ]
    },
    {
     "name": "stdout",
     "output_type": "stream",
     "text": [
      "1 False False\n"
     ]
    },
    {
     "name": "stderr",
     "output_type": "stream",
     "text": [
      "/impa/home/a/lucas.resende/trimmedmean/src/plot.py:83: UserWarning: The figure layout has changed to tight\n",
      "  plt.tight_layout()\n"
     ]
    },
    {
     "name": "stdout",
     "output_type": "stream",
     "text": [
      "1 False True\n"
     ]
    },
    {
     "name": "stderr",
     "output_type": "stream",
     "text": [
      "/impa/home/a/lucas.resende/trimmedmean/src/plot.py:83: UserWarning: The figure layout has changed to tight\n",
      "  plt.tight_layout()\n"
     ]
    },
    {
     "name": "stdout",
     "output_type": "stream",
     "text": [
      "1 True False\n"
     ]
    },
    {
     "name": "stderr",
     "output_type": "stream",
     "text": [
      "/impa/home/a/lucas.resende/trimmedmean/src/plot.py:83: UserWarning: The figure layout has changed to tight\n",
      "  plt.tight_layout()\n"
     ]
    },
    {
     "name": "stdout",
     "output_type": "stream",
     "text": [
      "1 True True\n"
     ]
    },
    {
     "name": "stderr",
     "output_type": "stream",
     "text": [
      "/impa/home/a/lucas.resende/trimmedmean/src/plot.py:83: UserWarning: The figure layout has changed to tight\n",
      "  plt.tight_layout()\n"
     ]
    },
    {
     "data": {
      "text/plain": [
       "<Figure size 1000x400 with 0 Axes>"
      ]
     },
     "metadata": {},
     "output_type": "display_data"
    }
   ],
   "source": [
    "# define experiment\n",
    "d = 5\n",
    "beta = np.ones(d)/d\n",
    "\n",
    "n = 1000\n",
    "\n",
    "r = n // 100\n",
    "n_contaminateds = [2 * r, 6 * r, 10 * r, 14 * r]\n",
    "error_types = [0,1]\n",
    "skews = [False, True]\n",
    "heteroscedasticitys = [False, True]\n",
    "\n",
    "mom_params = [2*nc+21 for nc in n_contaminateds]\n",
    "tm_params = [(p-1)/(2*n) for p in mom_params]\n",
    "\n",
    "algorithms = [\"plugin\", \"gd\"]\n",
    "\n",
    "selection_strategies = [\"max_slope\", \"min_loss\"]\n",
    "fold_Ks = [\"maxK/V\", \"K/V\"]\n",
    "\n",
    "results = json.load(open(\"results/comparison_algorithms_strategies.json\", \"r\"))\n",
    "for error_type, skew, heteroscedasticity in itertools.product(error_types, skews, heteroscedasticitys):\n",
    "    print(error_type, skew, heteroscedasticity)\n",
    "    plot_alg_cv_comparison(results, error_type, skew, heteroscedasticity, savefig=True)"
   ]
  },
  {
   "cell_type": "markdown",
   "metadata": {},
   "source": [
    "### Setup A experiments\n",
    "\n"
   ]
  },
  {
   "cell_type": "code",
   "execution_count": 3,
   "metadata": {
    "scrolled": true
   },
   "outputs": [
    {
     "name": "stdout",
     "output_type": "stream",
     "text": [
      "error=0, skew=True, h=True\n",
      "error=0, skew=True, h=False\n"
     ]
    },
    {
     "name": "stderr",
     "output_type": "stream",
     "text": [
      "/impa/home/a/lucas.resende/trimmedmean/src/plot.py:146: UserWarning: The figure layout has changed to tight\n",
      "  plt.tight_layout()\n"
     ]
    },
    {
     "name": "stdout",
     "output_type": "stream",
     "text": [
      "error=0, skew=False, h=True\n"
     ]
    },
    {
     "name": "stderr",
     "output_type": "stream",
     "text": [
      "/impa/home/a/lucas.resende/trimmedmean/src/plot.py:146: UserWarning: The figure layout has changed to tight\n",
      "  plt.tight_layout()\n"
     ]
    },
    {
     "name": "stdout",
     "output_type": "stream",
     "text": [
      "error=0, skew=False, h=False\n"
     ]
    },
    {
     "name": "stderr",
     "output_type": "stream",
     "text": [
      "/impa/home/a/lucas.resende/trimmedmean/src/plot.py:146: UserWarning: The figure layout has changed to tight\n",
      "  plt.tight_layout()\n"
     ]
    },
    {
     "name": "stdout",
     "output_type": "stream",
     "text": [
      "error=1, skew=True, h=True\n"
     ]
    },
    {
     "name": "stderr",
     "output_type": "stream",
     "text": [
      "/impa/home/a/lucas.resende/trimmedmean/src/plot.py:146: UserWarning: The figure layout has changed to tight\n",
      "  plt.tight_layout()\n"
     ]
    },
    {
     "name": "stdout",
     "output_type": "stream",
     "text": [
      "error=1, skew=True, h=False\n"
     ]
    },
    {
     "name": "stderr",
     "output_type": "stream",
     "text": [
      "/impa/home/a/lucas.resende/trimmedmean/src/plot.py:146: UserWarning: The figure layout has changed to tight\n",
      "  plt.tight_layout()\n"
     ]
    },
    {
     "name": "stdout",
     "output_type": "stream",
     "text": [
      "error=1, skew=False, h=True\n"
     ]
    },
    {
     "name": "stderr",
     "output_type": "stream",
     "text": [
      "/impa/home/a/lucas.resende/trimmedmean/src/plot.py:146: UserWarning: The figure layout has changed to tight\n",
      "  plt.tight_layout()\n"
     ]
    },
    {
     "name": "stdout",
     "output_type": "stream",
     "text": [
      "error=1, skew=False, h=False\n"
     ]
    },
    {
     "name": "stderr",
     "output_type": "stream",
     "text": [
      "/impa/home/a/lucas.resende/trimmedmean/src/plot.py:146: UserWarning: The figure layout has changed to tight\n",
      "  plt.tight_layout()\n"
     ]
    },
    {
     "name": "stdout",
     "output_type": "stream",
     "text": [
      "error=2, skew=True, h=True\n"
     ]
    },
    {
     "name": "stderr",
     "output_type": "stream",
     "text": [
      "/impa/home/a/lucas.resende/trimmedmean/src/plot.py:146: UserWarning: The figure layout has changed to tight\n",
      "  plt.tight_layout()\n"
     ]
    },
    {
     "name": "stdout",
     "output_type": "stream",
     "text": [
      "error=2, skew=True, h=False\n"
     ]
    },
    {
     "name": "stderr",
     "output_type": "stream",
     "text": [
      "/impa/home/a/lucas.resende/trimmedmean/src/plot.py:146: UserWarning: The figure layout has changed to tight\n",
      "  plt.tight_layout()\n"
     ]
    },
    {
     "name": "stdout",
     "output_type": "stream",
     "text": [
      "error=2, skew=False, h=True\n"
     ]
    },
    {
     "name": "stderr",
     "output_type": "stream",
     "text": [
      "/impa/home/a/lucas.resende/trimmedmean/src/plot.py:146: UserWarning: The figure layout has changed to tight\n",
      "  plt.tight_layout()\n"
     ]
    },
    {
     "name": "stdout",
     "output_type": "stream",
     "text": [
      "error=2, skew=False, h=False\n"
     ]
    },
    {
     "name": "stderr",
     "output_type": "stream",
     "text": [
      "/impa/home/a/lucas.resende/trimmedmean/src/plot.py:146: UserWarning: The figure layout has changed to tight\n",
      "  plt.tight_layout()\n"
     ]
    },
    {
     "data": {
      "text/plain": [
       "<Figure size 500x400 with 0 Axes>"
      ]
     },
     "metadata": {},
     "output_type": "display_data"
    }
   ],
   "source": [
    "# define experiment\n",
    "d = 5\n",
    "beta = np.ones(d)/d\n",
    "\n",
    "n = 1000\n",
    "\n",
    "r = n // 100\n",
    "n_contaminateds = [0, 2 * r, 4 * r, 6 * r, 8 * r, 10 * r, 12 * r, 14 * r]\n",
    "error_types = [0, 1, 2]\n",
    "skews = [True, False]\n",
    "heteroscedasticitys = [True, False]\n",
    "\n",
    "mom_params = [2*nc+1 + 20 for nc in n_contaminateds]\n",
    "tm_params = [(p-1)/(2*n) for p in mom_params]\n",
    "\n",
    "results = json.load(open(\"results/setupA.json\", \"r\"))\n",
    "\n",
    "for error_type in error_types:\n",
    "    for skew in skews:\n",
    "        for heteroscedasticity in heteroscedasticitys:\n",
    "            print(f\"error={error_type}, skew={skew}, h={heteroscedasticity}\")\n",
    "            make_plot_setup(\n",
    "                results,\n",
    "                {\"error_type\": error_type, \n",
    "                 \"skew\": skew,\n",
    "                 \"heteroscedasticity\": heteroscedasticity\n",
    "                },\n",
    "                savefig=True\n",
    "            )\n"
   ]
  },
  {
   "cell_type": "markdown",
   "metadata": {},
   "source": [
    "### Setup B experiments"
   ]
  },
  {
   "cell_type": "code",
   "execution_count": 4,
   "metadata": {
    "scrolled": true
   },
   "outputs": [
    {
     "name": "stdout",
     "output_type": "stream",
     "text": [
      "p=0.01\n",
      "p=0.03\n"
     ]
    },
    {
     "name": "stderr",
     "output_type": "stream",
     "text": [
      "/impa/home/a/lucas.resende/trimmedmean/src/plot.py:146: UserWarning: The figure layout has changed to tight\n",
      "  plt.tight_layout()\n"
     ]
    },
    {
     "name": "stdout",
     "output_type": "stream",
     "text": [
      "p=0.05\n"
     ]
    },
    {
     "name": "stderr",
     "output_type": "stream",
     "text": [
      "/impa/home/a/lucas.resende/trimmedmean/src/plot.py:146: UserWarning: The figure layout has changed to tight\n",
      "  plt.tight_layout()\n"
     ]
    },
    {
     "name": "stdout",
     "output_type": "stream",
     "text": [
      "p=0.07\n"
     ]
    },
    {
     "name": "stderr",
     "output_type": "stream",
     "text": [
      "/impa/home/a/lucas.resende/trimmedmean/src/plot.py:146: UserWarning: The figure layout has changed to tight\n",
      "  plt.tight_layout()\n"
     ]
    },
    {
     "name": "stdout",
     "output_type": "stream",
     "text": [
      "p=0.09\n"
     ]
    },
    {
     "name": "stderr",
     "output_type": "stream",
     "text": [
      "/impa/home/a/lucas.resende/trimmedmean/src/plot.py:146: UserWarning: The figure layout has changed to tight\n",
      "  plt.tight_layout()\n"
     ]
    },
    {
     "name": "stdout",
     "output_type": "stream",
     "text": [
      "p=0.11\n"
     ]
    },
    {
     "name": "stderr",
     "output_type": "stream",
     "text": [
      "/impa/home/a/lucas.resende/trimmedmean/src/plot.py:146: UserWarning: The figure layout has changed to tight\n",
      "  plt.tight_layout()\n"
     ]
    },
    {
     "name": "stdout",
     "output_type": "stream",
     "text": [
      "p=0.13\n"
     ]
    },
    {
     "name": "stderr",
     "output_type": "stream",
     "text": [
      "/impa/home/a/lucas.resende/trimmedmean/src/plot.py:146: UserWarning: The figure layout has changed to tight\n",
      "  plt.tight_layout()\n"
     ]
    },
    {
     "data": {
      "text/plain": [
       "<Figure size 500x400 with 0 Axes>"
      ]
     },
     "metadata": {},
     "output_type": "display_data"
    }
   ],
   "source": [
    "# define experiment\n",
    "d = 5\n",
    "beta = np.ones(d)/d\n",
    "\n",
    "n = 1000\n",
    "\n",
    "r = n // 100\n",
    "n_contaminateds = [0, 2 * r, 4 * r, 6 * r, 8 * r, 10 * r, 12 * r, 14 * r]\n",
    "ps = [.01, .03, .05, .07, .09, .11, .13]\n",
    "\n",
    "mom_params = [2*nc+1 + 20 for nc in n_contaminateds]\n",
    "tm_params = [(p-1)/(2*n) for p in mom_params]\n",
    "\n",
    "results = json.load(open(\"results/setupB.json\", \"r\"))\n",
    "\n",
    "for p in ps:\n",
    "    print(f\"p={p}\")\n",
    "    make_plot_setup(results, {\"p\": p}, vertical_at=50*p, vertical_label=r\"$\\varepsilon=p$\", savefig=True)\n"
   ]
  }
 ],
 "metadata": {
  "kernelspec": {
   "display_name": "Python 3 (ipykernel)",
   "language": "python",
   "name": "python3"
  },
  "language_info": {
   "codemirror_mode": {
    "name": "ipython",
    "version": 3
   },
   "file_extension": ".py",
   "mimetype": "text/x-python",
   "name": "python",
   "nbconvert_exporter": "python",
   "pygments_lexer": "ipython3",
   "version": "3.10.12"
  }
 },
 "nbformat": 4,
 "nbformat_minor": 2
}
